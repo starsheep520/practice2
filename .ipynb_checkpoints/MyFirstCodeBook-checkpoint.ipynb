{
 "cells": [
  {
   "cell_type": "markdown",
   "metadata": {
    "id": "6mvWP0kRQATC"
   },
   "source": [
    "# 주피터 노트북 사용법\n",
    "\n",
    "* shift + enter -> 셀 실행 + 커서 다음셀 이동\n",
    "* command + enter -> 셀 실행 + 커서 그대로\n",
    "* esc (파란색 비활성성태)\n",
    "\n",
    "## 비활성상태에서 사용하는 단축키\n",
    "* a : 위에 셀 추가(above)\n",
    "* b : 아래에 셀 추가(below)\n",
    "* dd : 셀 삭제(delete)\n",
    "* m : 마크다운문서로 변경\n",
    "* y : 코드셀로 변경\n",
    "* h : 다양한 단축키 확인 가능\n",
    "\n",
    "## Table of Contents 만들기\n",
    "\n",
    "터미널에서 아래와 같은 방식으로 주피터노트북 확장기능 패키지를 설치한다.\n",
    "\n",
    "jupyter_nbextensions_configurator\n",
    "jupyter_nbextensions_configurator\n",
    "pip3 install jupyter_nbextensions_configurator\n",
    "jupyter nbextensions_configurator enable --user\n",
    "pip3 install jupyter_contrib_nbextensions\n",
    "jupyter contrib nbextension install --user\n",
    "\n",
    "이렇게 패키지를 설치한 다음에 주피터노트북을 다시 실행한 후 <br>\n",
    "Nbextension 의 Table of contents (2) 를 활성화시키고\n",
    "\"Auto~\" 를 체크한다.\n",
    "\n",
    "그리고 주피터노트북 파이썬 파일에서 목차 아이콘을 누르면 문서 옆에 목록이 뜬다.\n"
   ]
  },
  {
   "cell_type": "markdown",
   "metadata": {
    "id": "aLtC2Ks4QATJ"
   },
   "source": [
    "# 마크다운(markdown)\n",
    "\n",
    "* 코드와 함께 문서화를 할 수 있다. (*)\n",
    "- 글머리를 넣는다."
   ]
  },
  {
   "cell_type": "markdown",
   "metadata": {
    "id": "9X7G2ux_lk_4"
   },
   "source": [
    "#마크다운(markdown)\n",
    "\n",
    "---\n",
    "\n",
    "##글자관련\n",
    "기울게 하기: \\*텍스트\\* *기울게 하기*\n",
    "\n",
    "진하게 하기: \\**텍스트\\** **진하게 하기**\n",
    "\n",
    "글자에 색 칠하기: \\`텍스트\\` `글자에 색 칠하기` \n",
    "\n",
    "수평선 긋기: \\--- \n",
    "\n",
    "---\n",
    "##이미지관련\n",
    "###이미지 입력하기\n",
    "\\![대괄호]\\(소괄호)\n",
    "\n",
    "대괄호에는 이미지 **설명**, 소괄호에는 **주소** 입력\n",
    "\n",
    "예시\n",
    "\n",
    "![미니언즈](https://pbs.twimg.com/profile_images/378800000164480291/09f80c2d30624e823e33256a3e1cbffc.jpeg)\n",
    "\n",
    "###링크 입력하기\n",
    "\\[대괄호]\\(소괄호)\n",
    "\n",
    "대괄호에는 링크 *설명*\n",
    "\n",
    "소괄호에는 링크 *이름*\n",
    "\n",
    "[자네 미니언 좋아하는가?](https://t1.daumcdn.net/thumb/R720x0/?fname=http://t1.daumcdn.net/brunch/service/user/1isF/image/FQeql1ClTckyqyCEb2-uPhYpcZI.jpg)\n",
    "\n",
    "###코드 넣기\n",
    "\n",
    "\\```python\n",
    "\n",
    "print('이런 스타일로 코드 입력)\n",
    "\n",
    "\\```\n",
    "\n",
    "예시\n",
    "\n",
    "```python\n",
    "print('파이썬 코드로 입력 모습')\n",
    "```\n",
    "\n",
    "###인용문\n",
    "https://m.blog.naver.com/youngdisplay/221084715856\n",
    "\n"
   ]
  },
  {
   "cell_type": "markdown",
   "metadata": {
    "id": "SDzsPaDklpKX"
   },
   "source": [
    "#단축키\n",
    "\n",
    "쉬프트+옵션+화살표(위또는아래) = 커서 방향으로 코드 한줄 복사\n",
    "\n",
    "옵션+화살표ㅕ = 코드 그 줄 이동  \n",
    "컨트롤 + 쉬프트 + k = 한줄 삭제\n",
    "커멘드 + d = 동일 블럭 선택 연속'\n"
   ]
  },
  {
   "cell_type": "markdown",
   "metadata": {
    "id": "A1e38kQ6QATN"
   },
   "source": [
    "#주피터 노트북 단축키\n"
   ]
  },
  {
   "cell_type": "markdown",
   "metadata": {
    "id": "fvFM04JyHviZ"
   },
   "source": [
    "# git 명령어\n"
   ]
  },
  {
   "cell_type": "markdown",
   "metadata": {
    "id": "brvC7ffyHiLP"
   },
   "source": [
    "add\n",
    "\n",
    "commit - m \"  \"\n",
    "\n",
    "push origin master\n"
   ]
  },
  {
   "cell_type": "markdown",
   "metadata": {
    "id": "IFUh8sAGHf4b"
   },
   "source": []
  },
  {
   "cell_type": "markdown",
   "metadata": {
    "id": "DbqbBYqTlquP"
   },
   "source": []
  },
  {
   "cell_type": "markdown",
   "metadata": {
    "id": "mRY4vTo6QC_2"
   },
   "source": [
    "# Git 실행 및 Github 사용법\n",
    "\n",
    "- git이 생성될 디렉토리를 만들거나 지정한다.\n",
    "- terminal에서 git이 생성될 디렉토리로 이동한다.\n",
    "- (command) git init <- git이 이제 이 디렉토리를 지켜본다(?)\n",
    "- (command) ls -a <- 정말 git과 관련된 어떤 숨겨진 파일이 생성되었음을 확인할 수 있다.\n",
    "- (command) vim README.md <- vim은 리눅스 환경으로 들어가는 명령어이고 리눅스 환경에서 README.md라는 파일을 만든다. 관용적으로 하는 절차다.\n",
    "- (command) ls <- 디렉토리에 READMD.md가 생성되었음을 확인할 수 있다.\n",
    "- (command) git status <- 현재 이 디렉토리에 존재하는 파일들의 git 상태(?)를 보여준다. 아마 아직 생성된 파일(READMD.md)git이 add되지 않았으므로 \"Untracked files~\"이라는 메세지가 보일 것이다.\n",
    "- (command) git add README.md <- 이 파일을 git에 추가한다.\n",
    "- (command) git stauts <- 이제 \"Change to be committed~\" 라는 문구가 보일 것이다. 추적되지 않는 파일은 없으며 commit되기 전 대기하는 파일들이 있다는 뜻이다.\n",
    "- (command) git commit -m \"read me created\" <- \"read me created\"라는 메세지를 commit 한다.\n",
    "- 이제 하늘 위로 둥둥 뜬 git을 push 하여 github으로 보내자.\n",
    "- github의 특정 repositories와 연결이 안되있다면 연결해야한다.\n",
    "- (command) git remote add origin https://github.com/starsheep520/practice2.git\n",
    "- (command) git push origin master <-이 git을 origin의 master로써 push한다.\n",
    "\n",
    "## github 에 잔디밭이 안 심어질때.\n",
    "\n",
    "https://medium.com/@rnrjsah789/github-%EC%9E%94%EB%94%94%EA%B0%80-%EC%95%88-%EC%8B%AC%EC%96%B4%EC%A7%88-%EB%95%8C-9389b4770f55\n",
    "\n",
    "- git에 등록된 이메일이 github의 것과 다르기때문.\n",
    "\n",
    "- 등록된 이메일 주소 확인 방법\n",
    "\n",
    " - (command) git config --list // global 로 설정된 git info\n",
    " - (command) git config --local --list // local 로 설정된 git info\n",
    " - local 정보가 global 에 우선하며 https://github.com/settings/emails 에서 확인할 수 있는 email 정보와 user.email 이 다르면 계정을 인식하지 못한다.\n",
    " - (command) git config --global user.name \"MY NAME\" <-git에 등록할 이름 지정\n",
    " - (command) git config --global user.email \"email@address.com\" <-email주소 지정\n",
    " - 이제 add, commit, push하여 잔디밭이 안심어지는 문제를 해결/갱신하자\n",
    " - (command) git status <-아직 아무것도 바뀐게 없다고 나온다\n",
    " - (command) vim README.md\n",
    " - vim 명령어:\n",
    "  - w\n",
    "  - q\n",
    "  - :\n",
    " - (command) git add README.md\n",
    " - (command) git commit -m 'name, email change'\n",
    " - (command) git push origin master\n",
    "성공!\n"
   ]
  },
  {
   "cell_type": "markdown",
   "metadata": {
    "id": "S4CSpLM7QCq3"
   },
   "source": []
  }
 ],
 "metadata": {
  "colab": {
   "name": "MyFirstCodeBook.ipynb",
   "provenance": [],
   "toc_visible": true
  },
  "kernelspec": {
   "display_name": "Python 3 (ipykernel)",
   "language": "python",
   "name": "python3"
  },
  "language_info": {
   "codemirror_mode": {
    "name": "ipython",
    "version": 3
   },
   "file_extension": ".py",
   "mimetype": "text/x-python",
   "name": "python",
   "nbconvert_exporter": "python",
   "pygments_lexer": "ipython3",
   "version": "3.8.5"
  },
  "toc": {
   "base_numbering": 1,
   "nav_menu": {},
   "number_sections": true,
   "sideBar": true,
   "skip_h1_title": false,
   "title_cell": "Table of Contents",
   "title_sidebar": "Contents",
   "toc_cell": false,
   "toc_position": {},
   "toc_section_display": true,
   "toc_window_display": true
  }
 },
 "nbformat": 4,
 "nbformat_minor": 1
}
