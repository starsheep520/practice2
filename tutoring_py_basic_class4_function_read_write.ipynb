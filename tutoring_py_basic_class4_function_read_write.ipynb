{
 "cells": [
  {
   "cell_type": "markdown",
   "id": "830e9623",
   "metadata": {
    "id": "830e9623"
   },
   "source": [
    "# ✅ 과제"
   ]
  },
  {
   "cell_type": "markdown",
   "id": "vwpBtO6jAcsy",
   "metadata": {
    "id": "vwpBtO6jAcsy"
   },
   "source": [
    "---\n",
    "# 4강. python의 함수, 파일 읽고 쓰기 (과제)\n",
    "---\n",
    "\n",
    "### <h3 align=\"right\">🥇 Authored by <strong>Jung Hyun Woo</strong></h3>"
   ]
  },
  {
   "cell_type": "markdown",
   "id": "3FXBVsXGrGae",
   "metadata": {
    "id": "3FXBVsXGrGae"
   },
   "source": [
    "## 📌 1. 입력으로 들어오는 모든 수의 평균 값을 계산해 주는 함수(get_avg)를 작성하시오."
   ]
  },
  {
   "cell_type": "code",
   "execution_count": 19,
   "id": "ou8_agO5A0eN",
   "metadata": {
    "id": "ou8_agO5A0eN"
   },
   "outputs": [
    {
     "name": "stdout",
     "output_type": "stream",
     "text": [
      "숫자 입력: 3\n",
      "입력한 값들의 평균 =  3.0\n",
      "숫자 입력: 4\n",
      "입력한 값들의 평균 =  3.5\n",
      "숫자입력하세요\n"
     ]
    }
   ],
   "source": [
    "# 여기에 답을 작성하세요\n",
    "\n",
    "def get_avg(num):\n",
    "    num_sum = 0\n",
    "    roof_ = 0\n",
    "    try:\n",
    "        while True:\n",
    "            roof_ += 1\n",
    "            num_sum += int(num)\n",
    "            num_avg = num_sum / roof_\n",
    "            print('입력한 값들의 평균 = ',num_avg)\n",
    "            num = int(input('숫자 입력: '))\n",
    "    except:\n",
    "        print('숫자입력하세요')\n",
    "\n",
    "input_number = input('숫자 입력: ')\n",
    "get_avg(input_number)"
   ]
  },
  {
   "cell_type": "markdown",
   "id": "TFNWF60A5feF",
   "metadata": {
    "id": "TFNWF60A5feF"
   },
   "source": [
    "## 📌 2. 주어진 자연수가 홀수인지 짝수인지 판별해 주는 함수(is_odd)를 작성하시오"
   ]
  },
  {
   "cell_type": "code",
   "execution_count": 25,
   "id": "xM3C0JKwA1HK",
   "metadata": {
    "id": "xM3C0JKwA1HK"
   },
   "outputs": [
    {
     "name": "stdout",
     "output_type": "stream",
     "text": [
      "홀짝판별기. 숫자를 입력하세요555\n",
      "홀수입니다.\n"
     ]
    }
   ],
   "source": [
    "# 여기에 답을 작성하세요\n",
    "def is_odd(num):\n",
    "    try:\n",
    "        num = int(num)\n",
    "        if num % 2 == 0:\n",
    "            print('짝수입니다.')\n",
    "        else:\n",
    "            print('홀수입니다.')\n",
    "\n",
    "    except:\n",
    "        print('숫자를 입력하세요')\n",
    "\n",
    "input_num = input('홀짝판별기. 숫자를 입력하세요')\n",
    "is_odd(input_num)\n"
   ]
  },
  {
   "cell_type": "markdown",
   "id": "Uz47Agq85hwg",
   "metadata": {
    "id": "Uz47Agq85hwg"
   },
   "source": [
    "## 📌 3. 여러 개의 숫자를 입력받아 가장 큰 수를 출력하는 print_max 함수를 작성하시오"
   ]
  },
  {
   "cell_type": "code",
   "execution_count": 62,
   "id": "1JyRxfHOA2O6",
   "metadata": {
    "id": "1JyRxfHOA2O6"
   },
   "outputs": [
    {
     "name": "stdout",
     "output_type": "stream",
     "text": [
      "공백으로 구분된 여러 개의 숫자를 입력하세요: 3 44\n"
     ]
    },
    {
     "data": {
      "text/plain": [
       "44"
      ]
     },
     "execution_count": 62,
     "metadata": {},
     "output_type": "execute_result"
    }
   ],
   "source": [
    "# 여기에 답을 작성하세요\n",
    "def print_max(numbers):\n",
    "    for i in range(len(numbers)):\n",
    "\n",
    "        if i == 0:\n",
    "            max_num = numbers[i]\n",
    "        elif numbers[i] >= numbers[i-1]:\n",
    "            max_num = numbers[i]\n",
    "        else:\n",
    "            max_num = numbers[i-1]\n",
    "    return max_num\n",
    "        \n",
    "input_num = []\n",
    "for i in input('공백으로 구분된 여러 개의 숫자를 입력하세요: ').split(' '):\n",
    "    input_num.append(int(i))\n",
    "\n",
    "print_max(input_num)\n"
   ]
  },
  {
   "cell_type": "markdown",
   "id": "tjPGffHp6ZZd",
   "metadata": {
    "id": "tjPGffHp6ZZd"
   },
   "source": [
    "## 📌 4. 어떤 수(number)의 각 자리 숫자(digit)의 합을 계산하는 sum_of_digits()라는 작성하시오\n"
   ]
  },
  {
   "cell_type": "code",
   "execution_count": 65,
   "id": "A7VP0d8tA25I",
   "metadata": {
    "id": "A7VP0d8tA25I"
   },
   "outputs": [
    {
     "name": "stdout",
     "output_type": "stream",
     "text": [
      "숫자 입력: 100000\n",
      "1\n"
     ]
    }
   ],
   "source": [
    "# 여기에 답을 작성하세요\n",
    "def sum_of_digits(num):\n",
    "    sum_of_digits = 0\n",
    "    for digit in num:\n",
    "        sum_of_digits += int(digit)\n",
    "    return sum_of_digits\n",
    "\n",
    "input_num = input('숫자 입력: ')\n",
    "print(sum_of_digits(input_num))"
   ]
  },
  {
   "cell_type": "markdown",
   "id": "BhNCvWU26ZZe",
   "metadata": {
    "id": "BhNCvWU26ZZe"
   },
   "source": [
    "## 📌 5. 주어진 단어가 회문인지 판별하는 함수 palindrome()을 작성하시오\n",
    "- Hint: 특정 리스트 list_[::-1] 혹은 reversed() 내장함수를 사용해보자"
   ]
  },
  {
   "cell_type": "code",
   "execution_count": 127,
   "id": "TspFoNJnA3Nv",
   "metadata": {
    "id": "TspFoNJnA3Nv"
   },
   "outputs": [
    {
     "data": {
      "text/plain": [
       "True"
      ]
     },
     "execution_count": 127,
     "metadata": {},
     "output_type": "execute_result"
    }
   ],
   "source": [
    "# 여기에 답을 작성하세요\n",
    "def palindrome(word):\n",
    "    word = word.upper() #입력된 문자의 대소문자 구분 제거목적\n",
    "    for i in word:\n",
    "        for j in reversed(word):\n",
    "            if i == j:\n",
    "                palindrome_result = True\n",
    "            else:\n",
    "                palindrome_result = False\n",
    "    return palindrome_result\n",
    "\n",
    "palindrome('1Level1')\n"
   ]
  },
  {
   "cell_type": "markdown",
   "id": "gNloBooT6ZZe",
   "metadata": {
    "id": "gNloBooT6ZZe"
   },
   "source": [
    "    거꾸로 배열해도 같은 단어 혹은 문장이 되는 것을 ‘회문(palindrome)’이라고 합니다.\n",
    "\n",
    "    Anna\n",
    "    Civic\n",
    "    Kayak\n",
    "    Level\n",
    "    ..."
   ]
  },
  {
   "cell_type": "markdown",
   "id": "-3vUK3a46ZZf",
   "metadata": {
    "id": "-3vUK3a46ZZf"
   },
   "source": [
    "## 📌 6. 사용자의 입력을 파일(test.txt)에 저장하는 프로그램을 작성하시오\n",
    "   * 사용자 입력은 Input() 함수를 이용하며, 입력할 내용은 아래와 같다."
   ]
  },
  {
   "cell_type": "markdown",
   "id": "hLZ1Px7E6ZZf",
   "metadata": {
    "id": "hLZ1Px7E6ZZf"
   },
   "source": [
    "    Life is too short\n",
    "    you need java"
   ]
  },
  {
   "cell_type": "code",
   "execution_count": 138,
   "id": "NRPi6GzeA7Jg",
   "metadata": {
    "id": "NRPi6GzeA7Jg"
   },
   "outputs": [],
   "source": [
    "# 여기에 답을 작성하세요\n",
    "f = open('./text.txt','w')\n",
    "data='Life is too short\\nyou need java'\n",
    "f.write(data)\n",
    "f.close()"
   ]
  },
  {
   "cell_type": "markdown",
   "id": "pgw2Ub6F6ZZg",
   "metadata": {
    "id": "pgw2Ub6F6ZZg"
   },
   "source": [
    "## 📌  7. 파일 test.txt가 있다. 이 파일의 내용 중 \"Java\"라는 문자열을 \"python\"으로 바꾸어서 저장하시오"
   ]
  },
  {
   "cell_type": "code",
   "execution_count": 212,
   "id": "4fvr16RZA8AW",
   "metadata": {
    "id": "4fvr16RZA8AW"
   },
   "outputs": [
    {
     "name": "stdout",
     "output_type": "stream",
     "text": [
      "Life is too short \n",
      "you need python \n",
      "\n"
     ]
    }
   ],
   "source": [
    "# 여기에 답을 작성하세요\n",
    "import os\n",
    "\n",
    "# print(os.getcwd()) #current working directory 구하는 방법\n",
    "# print(os.listdir(os.getcwd())) #current working directory에 있는 files 목록 출력\n",
    "f = open('./text.txt','r')\n",
    "list_of_each_line = f.readlines()\n",
    "\n",
    "new_tot_text='' #최종적으로 바뀐 텍스트의 string이 저장될 object\n",
    "\n",
    "for j, a_line in enumerate(list_of_each_line):\n",
    "    \n",
    "    word_list_in_a_line = a_line.split()\n",
    "\n",
    "    \n",
    "    for i, word in enumerate(word_list_in_a_line):\n",
    "        if word == 'java':\n",
    "            word_list_in_a_line[i] = 'python'\n",
    "        else:\n",
    "            continue\n",
    "    if j != len(list_of_each_line):\n",
    "        word_list_in_a_line.append('\\n')\n",
    "    else:\n",
    "        continue\n",
    "    new_line_str = ' '.join(word_list_in_a_line)\n",
    "    new_tot_text+=new_line_str\n",
    "print(new_tot_text)"
   ]
  },
  {
   "cell_type": "markdown",
   "id": "Yfyhi1my6sUl",
   "metadata": {
    "id": "Yfyhi1my6sUl"
   },
   "source": [
    "## 📌 8.자연수를 입력 받아서 **해당 숫자 미만의 자연수에서 3, 7 의 배수의 총합**을 구하는 함수를 작성하시오. 반환의 결과는 int형으로 반환해야 합니다.\n",
    "\n",
    "> 함수명: three_seven_sum  \n",
    "> 입력예1: three_seven_sum(10)  \n",
    "> 출력예1: 23"
   ]
  },
  {
   "cell_type": "code",
   "execution_count": 227,
   "id": "Rx74SwD5A8Vi",
   "metadata": {
    "id": "Rx74SwD5A8Vi"
   },
   "outputs": [
    {
     "name": "stdout",
     "output_type": "stream",
     "text": [
      "숫자를 입력하세요: 10\n",
      "25\n",
      "25\n"
     ]
    }
   ],
   "source": [
    "# 여기에 답을 작성하세요\n",
    "\n",
    "def three_seven_sum(num):\n",
    "\n",
    "    tot_numbers = list(range(num))\n",
    "\n",
    "    three_sum = 0\n",
    "    seven_sum = 0\n",
    "\n",
    "    for i in tot_numbers:\n",
    "        if i % 3 == 0:\n",
    "            three_sum += int(i)\n",
    "        elif i % 7 == 0:\n",
    "            seven_sum += int(i)\n",
    "        else:\n",
    "            continue\n",
    "    \n",
    "    return three_sum + seven_sum\n",
    "\n",
    "input_num_ = int(input('숫자를 입력하세요: '))\n",
    "\n",
    "print(three_seven_sum(input_num_))\n",
    "print(3+6+9+7)"
   ]
  },
  {
   "cell_type": "markdown",
   "id": "eTrhJtNQ7Jzg",
   "metadata": {
    "id": "eTrhJtNQ7Jzg"
   },
   "source": [
    "## 📌 9. **모든 요소가 숫자로 이루어진 문자열**을 입력 받아, 입력된 문자열에 연속된 2의 배수가 나오면 두 수 사이에 + 문자를 넣고, 연속된 숫자이나 2의 배수가 아닌 경우엔 두 수 사이에 * 문자를 넣는 함수를 만들고자 한다. 이 함수의 이름을 insertsring로 하여 함수는 작성하시오\n",
    "\n",
    "> 함수명: insertsring   \n",
    "> 입력예1: insertsring(\"112233445566778899\")  \n",
    "> 출력예1: '1\\*12+23\\*34+45\\*56+67\\*78+89\\*9'"
   ]
  },
  {
   "cell_type": "code",
   "execution_count": 325,
   "id": "2b7fc7c6",
   "metadata": {
    "id": "JZHOSYb7A83t"
   },
   "outputs": [
    {
     "data": {
      "text/plain": [
       "'1*12+23*34+45*56+67*78+89*9'"
      ]
     },
     "execution_count": 325,
     "metadata": {},
     "output_type": "execute_result"
    }
   ],
   "source": [
    "# 여기에 답을 작성하세요\n",
    "\n",
    "def insertstring(num):\n",
    "    num_separated_str_list = list(num)\n",
    "    num_separated_int_list = [int(i) for i in num_separated_str_list]\n",
    "   \n",
    "    i = 0\n",
    "    \n",
    "    new_list = []\n",
    "\n",
    "    while i < len(num_separated_int_list)-1:\n",
    "\n",
    "        if (num_separated_int_list[i] % 2 == 0) and (num_separated_int_list[i+1] % 2 == 0) == True:\n",
    "            new_list.append(num_separated_int_list[i])\n",
    "            new_list.append('+')\n",
    "            new_list.append(num_separated_int_list[i+1])\n",
    "        elif (num_separated_int_list[i] % 2 == 1) and (num_separated_int_list[i+1] % 2 == 1) == True:\n",
    "            new_list.append(num_separated_int_list[i])\n",
    "            new_list.append('*')\n",
    "            new_list.append(num_separated_int_list[i+1])\n",
    "        i += 1\n",
    "    return \"\".join(map(str, new_list)) #map: int로 구성된 list를 str로 구성된 list변환\n",
    "    \n",
    "insertstring('112233445566778899')"
   ]
  },
  {
   "cell_type": "markdown",
   "id": "9c_LdI-sBE6C",
   "metadata": {
    "id": "9c_LdI-sBE6C"
   },
   "source": [
    "## 📌 10. 문자열을 입력값으로 받으면 문자열의 길이를 반환하는 함수를 작성하시오"
   ]
  },
  {
   "cell_type": "code",
   "execution_count": null,
   "id": "uIC5ZQWqBKsD",
   "metadata": {
    "id": "uIC5ZQWqBKsD"
   },
   "outputs": [],
   "source": [
    "# 여기에 답을 작성하세요\n",
    "def howlong_str(string_):\n",
    "    len_str = len(string_)\n",
    "    return len_str\n",
    "\n",
    "input_str = input('문자열을 입력하세요')\n",
    "print('문자열의 길이는:{}'.format(howlong_str(input_str)))\n"
   ]
  }
 ],
 "metadata": {
  "colab": {
   "collapsed_sections": [],
   "name": "4강. python의 함수, 파일 읽고 쓰기 (과제).ipynb",
   "provenance": []
  },
  "kernelspec": {
   "display_name": "Python 3 (ipykernel)",
   "language": "python",
   "name": "python3"
  },
  "language_info": {
   "codemirror_mode": {
    "name": "ipython",
    "version": 3
   },
   "file_extension": ".py",
   "mimetype": "text/x-python",
   "name": "python",
   "nbconvert_exporter": "python",
   "pygments_lexer": "ipython3",
   "version": "3.8.5"
  },
  "toc": {
   "base_numbering": 1,
   "nav_menu": {},
   "number_sections": true,
   "sideBar": true,
   "skip_h1_title": false,
   "title_cell": "Table of Contents",
   "title_sidebar": "Contents",
   "toc_cell": false,
   "toc_position": {},
   "toc_section_display": true,
   "toc_window_display": false
  }
 },
 "nbformat": 4,
 "nbformat_minor": 5
}
