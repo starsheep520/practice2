{
 "cells": [
  {
   "cell_type": "markdown",
   "metadata": {
    "id": "6mvWP0kRQATC"
   },
   "source": [
    "# 주피터 노트북 사용법\n",
    "\n",
    "* shift + enter -> 셀 실행 + 커서 다음셀 이동\n",
    "* command + enter -> 셀 실행 + 커서 그대로\n",
    "* esc (파란색 비활성성태)\n",
    "\n",
    "## 비활성상태에서 사용하는 단축키\n",
    "* a : 위에 셀 추가(above)\n",
    "* b : 아래에 셀 추가(below)\n",
    "* dd : 셀 삭제(delete)\n",
    "* m : 마크다운문서로 변경\n",
    "* y : 코드셀로 변경\n",
    "* h : 다양한 단축키 확인 가능\n",
    "\n",
    "## Table of Contents 만들기\n",
    "\n",
    "터미널에서 아래와 같은 방식으로 주피터노트북 확장기능 패키지를 설치한다.\n",
    "\n",
    "jupyter_nbextensions_configurator\n",
    "\n",
    "jupyter_nbextensions_configurator\n",
    "\n",
    "pip3 install jupyter_nbextensions_configurator\n",
    "\n",
    "jupyter nbextensions_configurator enable --user\n",
    "\n",
    "pip3 install jupyter_contrib_nbextensions\n",
    "\n",
    "jupyter contrib nbextension install --user\n",
    "\n",
    "이렇게 패키지를 설치한 다음에 주피터노트북을 다시 실행한 후 <br>\n",
    "Nbextension 의 Table of contents (2) 를 활성화시키고\n",
    "\n",
    "\"Auto~\" 를 체크한다.\n",
    "\n",
    "그리고 주피터노트북 파이썬 파일에서 목차 아이콘을 누르면 문서 옆에 목록이 뜬다.\n"
   ]
  },
  {
   "cell_type": "markdown",
   "metadata": {
    "id": "aLtC2Ks4QATJ"
   },
   "source": [
    "# 마크다운(markdown)\n",
    "\n",
    "* 코드와 함께 문서화를 할 수 있다. (*)\n",
    "- 글머리를 넣는다."
   ]
  },
  {
   "cell_type": "markdown",
   "metadata": {
    "id": "9X7G2ux_lk_4"
   },
   "source": [
    "#마크다운(markdown)\n",
    "\n",
    "---\n",
    "\n",
    "##글자관련\n",
    "기울게 하기: \\*텍스트\\* *기울게 하기*\n",
    "\n",
    "진하게 하기: \\**텍스트\\** **진하게 하기**\n",
    "\n",
    "글자에 색 칠하기: \\`텍스트\\` `글자에 색 칠하기` \n",
    "\n",
    "수평선 긋기: \\--- \n",
    "\n",
    "---\n",
    "##이미지관련\n",
    "###이미지 입력하기\n",
    "\\![대괄호]\\(소괄호)\n",
    "\n",
    "대괄호에는 이미지 **설명**, 소괄호에는 **주소** 입력\n",
    "\n",
    "예시\n",
    "\n",
    "![미니언즈](https://pbs.twimg.com/profile_images/378800000164480291/09f80c2d30624e823e33256a3e1cbffc.jpeg)\n",
    "\n",
    "###링크 입력하기\n",
    "\\[대괄호]\\(소괄호)\n",
    "\n",
    "대괄호에는 링크 *설명*\n",
    "\n",
    "소괄호에는 링크 *이름*\n",
    "\n",
    "[자네 미니언 좋아하는가?](https://t1.daumcdn.net/thumb/R720x0/?fname=http://t1.daumcdn.net/brunch/service/user/1isF/image/FQeql1ClTckyqyCEb2-uPhYpcZI.jpg)\n",
    "\n",
    "###코드 넣기\n",
    "\n",
    "\\```python\n",
    "\n",
    "print('이런 스타일로 코드 입력)\n",
    "\n",
    "\\```\n",
    "\n",
    "예시\n",
    "\n",
    "```python\n",
    "print('파이썬 코드로 입력 모습')\n",
    "```\n",
    "\n",
    "###인용문\n",
    "https://m.blog.naver.com/youngdisplay/221084715856\n",
    "\n"
   ]
  },
  {
   "cell_type": "markdown",
   "metadata": {
    "id": "SDzsPaDklpKX"
   },
   "source": [
    "#단축키\n",
    "\n",
    "쉬프트+옵션+화살표(위또는아래) = 커서 방향으로 코드 한줄 복사\n",
    "\n",
    "옵션+화살표ㅕ = 코드 그 줄 이동  \n",
    "컨트롤 + 쉬프트 + k = 한줄 삭제\n",
    "커멘드 + d = 동일 블럭 선택 연속'\n"
   ]
  },
  {
   "cell_type": "markdown",
   "metadata": {
    "id": "A1e38kQ6QATN"
   },
   "source": [
    "#주피터 노트북 단축키\n"
   ]
  },
  {
   "cell_type": "markdown",
   "metadata": {
    "id": "fvFM04JyHviZ"
   },
   "source": [
    "# git 명령어\n"
   ]
  },
  {
   "cell_type": "markdown",
   "metadata": {
    "id": "brvC7ffyHiLP"
   },
   "source": [
    "add\n",
    "\n",
    "commit - m \"  \"\n",
    "\n",
    "push origin master\n"
   ]
  },
  {
   "cell_type": "markdown",
   "metadata": {
    "id": "IFUh8sAGHf4b"
   },
   "source": []
  },
  {
   "cell_type": "markdown",
   "metadata": {
    "id": "DbqbBYqTlquP"
   },
   "source": []
  },
  {
   "cell_type": "markdown",
   "metadata": {
    "id": "mRY4vTo6QC_2"
   },
   "source": [
    "# Git 실행 및 Github 사용법\n",
    "\n",
    "- git이 생성될 디렉토리를 만들거나 지정한다.\n",
    "- terminal에서 git이 생성될 디렉토리로 이동한다.\n",
    "- (command) git init <- git이 이제 이 디렉토리를 지켜본다(?)\n",
    "- (command) ls -a <- 정말 git과 관련된 어떤 숨겨진 파일이 생성되었음을 확인할 수 있다.\n",
    "- (command) vim README.md <- vim은 리눅스 환경으로 들어가는 명령어이고 리눅스 환경에서 README.md라는 파일을 만든다. 관용적으로 하는 절차다.\n",
    "- (command) ls <- 디렉토리에 READMD.md가 생성되었음을 확인할 수 있다.\n",
    "- (command) git status <- 현재 이 디렉토리에 존재하는 파일들의 git 상태(?)를 보여준다. 아마 아직 생성된 파일(READMD.md)git이 add되지 않았으므로 \"Untracked files~\"이라는 메세지가 보일 것이다.\n",
    "- (command) git add README.md <- 이 파일을 git에 추가한다.\n",
    "- (command) git stauts <- 이제 \"Change to be committed~\" 라는 문구가 보일 것이다. 추적되지 않는 파일은 없으며 commit되기 전 대기하는 파일들이 있다는 뜻이다.\n",
    "- (command) git commit -m \"read me created\" <- \"read me created\"라는 메세지를 commit 한다.\n",
    "- 이제 하늘 위로 둥둥 뜬 git을 push 하여 github으로 보내자.\n",
    "- github의 특정 repositories와 연결이 안되있다면 연결해야한다.\n",
    "- (command) git remote add origin https://github.com/starsheep520/practice2.git\n",
    "- (command) git push origin master <-이 git을 origin의 master로써 push한다.\n",
    "\n",
    "## github 에 잔디밭이 안 심어질때.\n",
    "\n",
    "https://medium.com/@rnrjsah789/github-%EC%9E%94%EB%94%94%EA%B0%80-%EC%95%88-%EC%8B%AC%EC%96%B4%EC%A7%88-%EB%95%8C-9389b4770f55\n",
    "\n",
    "- git에 등록된 이메일이 github의 것과 다르기때문.\n",
    "\n",
    "- 등록된 이메일 주소 확인 방법\n",
    "\n",
    " - (command) git config --list // global 로 설정된 git info\n",
    " - (command) git config --local --list // local 로 설정된 git info\n",
    " - local 정보가 global 에 우선하며 https://github.com/settings/emails 에서 확인할 수 있는 email 정보와 user.email 이 다르면 계정을 인식하지 못한다.\n",
    " - (command) git config --global user.name \"MY NAME\" <-git에 등록할 이름 지정\n",
    " - (command) git config --global user.email \"email@address.com\" <-email주소 지정\n",
    " - 이제 add, commit, push하여 잔디밭이 안심어지는 문제를 해결/갱신하자\n",
    " - (command) git status <-아직 아무것도 바뀐게 없다고 나온다\n",
    " - (command) vim README.md\n",
    " - vim 명령어:\n",
    "  - w\n",
    "  - q\n",
    "  - :\n",
    " - (command) git add README.md\n",
    " - (command) git commit -m 'name, email change'\n",
    " - (command) git push origin master\n",
    "성공!\n"
   ]
  },
  {
   "cell_type": "markdown",
   "metadata": {
    "id": "S4CSpLM7QCq3"
   },
   "source": []
  },
  {
   "cell_type": "markdown",
   "metadata": {},
   "source": [
    "# pandas"
   ]
  },
  {
   "cell_type": "markdown",
   "metadata": {},
   "source": [
    "## DataType_Series"
   ]
  },
  {
   "cell_type": "markdown",
   "metadata": {},
   "source": [
    "### 특징\n",
    "\n",
    "- 일련의 객체를 담을 수 있는 1차원 array와 같은 구조\n",
    "\n",
    "- 서로 다른 자료형(type)을 동시에 가질 수 있음\n",
    "\n",
    "- Data Frame 을 구성하는 하나의 특정 행이나 열로 설명 가능하며, Data Frame의 기본형이라 생각 할 수 있다.(Series가 모여 Data Frame이 만들어짐)"
   ]
  },
  {
   "cell_type": "markdown",
   "metadata": {},
   "source": [
    "### 생성하기\n",
    "\n",
    "#### 리스트로.. pd.Series([   ,   ,   ])\n",
    "\n",
    "- obj1 = pd.Series([1,'a',True])\n",
    "\n",
    "- obj2 = Series([1,'a',True]) <- from pandas import Series 라고 쓰면 pd. 생략 가능\n",
    "\n",
    "- obj3 = Series(sdata, index =['a','b'])"
   ]
  },
  {
   "cell_type": "markdown",
   "metadata": {},
   "source": [
    "#### 딕셔너리로.. pd.Series({key:value, key:value})\n",
    "\n",
    "- obj3 = Series(sdata, index =['a','b'])"
   ]
  },
  {
   "cell_type": "markdown",
   "metadata": {},
   "source": [
    "### class variable\n",
    "\n",
    "- obj4.values : 객체의 values만 반환\n",
    "\n",
    "- obj4.index : 객체의 index만 반환\n",
    "\n",
    "- obj4.dtypes : 객체의 자료형 반환"
   ]
  },
  {
   "cell_type": "markdown",
   "metadata": {},
   "source": [
    "### Indexing, slicing\n",
    "\n",
    "#### index name으로 indexing\n",
    "\n",
    "- obj5['index_name']\n",
    "\n",
    "- obj5['index_name1','index_name2']\n",
    "\n",
    "- obj5['index_name1':'index_name5']\n",
    "\n",
    "#### index order로 indexing\n",
    "\n",
    "- obj6[0] <-인덱스 순서\n",
    "\n",
    "- obj6[1]\n",
    "\n",
    "- obj6[0:2]\n"
   ]
  },
  {
   "cell_type": "markdown",
   "metadata": {},
   "source": [
    "## DataType_DataFrame"
   ]
  },
  {
   "cell_type": "markdown",
   "metadata": {},
   "source": [
    "### 특징\n",
    "\n",
    "- matrix와 유사한 구조를 가짐\n",
    "\n",
    "- 2차원 구조, 행(row), 열(column)으로 구성"
   ]
  },
  {
   "cell_type": "markdown",
   "metadata": {},
   "source": [
    "### 생성하기"
   ]
  },
  {
   "cell_type": "markdown",
   "metadata": {},
   "source": [
    "#### Dic안에List\n",
    "\n",
    "- {key1:[1,2,3,4],key2:[1,2,3,4]}\n",
    "\n",
    "data = {\n",
    "    'state': ['Ohio', 'Ohio', 'Ohio', 'Nevada', 'Nevada'],\n",
    "    'year' : [2000, 2002, 2001, 2001, 2002],\n",
    "    'pop' : [1.5, 1.7, 3.6, 2.4, 2.9]}\n",
    "    \n",
    "- DataFrame(data, columns = ['pop', 'year', 'state']) <-column 순서변경 가능"
   ]
  },
  {
   "cell_type": "markdown",
   "metadata": {},
   "source": [
    "#### Dic안에Dic (nested dictionary) \n",
    "\n",
    "- {col1:{index1:value1, index2:value2},col2:{index1:value4, index2:value5}}\n",
    "\n",
    "pop = {'Nevada' : {2001 : 2.4, 2002 : 2.9},\n",
    "       'Ohio' : {2000 : 1.5, 2001 : 1.7, 2002 : 3.6}} "
   ]
  },
  {
   "cell_type": "markdown",
   "metadata": {},
   "source": [
    "#### (추천)List안에Dic\n",
    "\n",
    "- [{index1:value1,index2:value2,index3:value3},{index1:value4,index2:value5,index3:value6}]\n"
   ]
  },
  {
   "cell_type": "markdown",
   "metadata": {},
   "source": [
    "#### Numpy ndarray 객체로\n",
    "\n",
    "- num = DataFrame(np.arange(9).reshage(3,3).T, index=['a','b','c'],columns=['x','y','z'])"
   ]
  },
  {
   "cell_type": "markdown",
   "metadata": {},
   "source": [
    "### class variable\n",
    "\n",
    "- df.index\n",
    "\n",
    "- df.columns"
   ]
  },
  {
   "cell_type": "markdown",
   "metadata": {},
   "source": [
    "### 기본적인 class method\n",
    "\n",
    "#### 기본정보\n",
    "\n",
    "- df.keys()\n",
    "\n",
    "- df.items()\n",
    "\n",
    "- df.to_dict('r') <- DataFrame을 Dic으로 변환\n",
    "\n",
    "#### data 불러오기\n",
    "\n",
    "- df = pd.read_excel()\n",
    "\n",
    "- df = pd.read_excel('file path',encoding='cp949')\n",
    "\n",
    "- df = pd.read_csv()\n",
    "\n",
    "#### data 확인하기\n",
    "\n",
    "- df.head()\n",
    "\n",
    "- df.tail(7)\n",
    "\n",
    "- df_name[[불러올컬럼명1,불컬2]]\n",
    "\n",
    "#### data 내보내기\n",
    "\n",
    "- df_name.to_csv(\"file 경로\",index=False)\n",
    "\n",
    "#### 기술통계\n",
    "\n",
    "- df.describe()\n",
    "\n",
    "#### 정렬\n",
    "\n",
    "- df.sort_values(by='col_name',ascending=False)\n",
    "\n",
    "- df.sort_index()\n"
   ]
  },
  {
   "cell_type": "markdown",
   "metadata": {},
   "source": [
    "### 기본 indexing, slicing\n",
    "\n",
    "- 행 단위로 indexing을 하려면 항상 slicing을 해야한다\n",
    "\n",
    "- df[0:2]"
   ]
  },
  {
   "cell_type": "markdown",
   "metadata": {},
   "source": [
    "### at,iat,loc,iloc indexing, slicing\n",
    "\n",
    "- 성능: iloc<loc<iat<at.\n",
    "\n",
    "- loc, iloc을 먼저 익숙해 지는 것이 좋음\n",
    "\n",
    "- loc: index이름으로 접근\n",
    "\n",
    "- iloc: index의 절대적 위치(순서)로 접근\n",
    "\n",
    "- df.loc[0:2]\n",
    "\n",
    "- df.loc[0,'col1'] <-인덱스0의 col1의 데이터를 불러온다\n",
    "\n",
    "- df.loc[0:5,['col1','col2']]\n",
    "\n",
    "- df.loc[(1,3),['col1','col2']]"
   ]
  },
  {
   "cell_type": "markdown",
   "metadata": {},
   "source": [
    "### Boolean indexing\n",
    "\n",
    "- b_df = df['col1'] == 'match 할 값'\n",
    "\n",
    "- df[b_df] <- True 만 indexing\n",
    "\n",
    "- df_customer[(df_customer['IsSms'] == 'T') | (df_customer['IsSms'] == 'T') ]"
   ]
  },
  {
   "cell_type": "markdown",
   "metadata": {},
   "source": [
    "### reindexing\n",
    "\n",
    "- df1 = df.reset_index() <-새로 인덱싱된 df기준으로 새로 indexing\n",
    "\n",
    "- df.reset_index(inplace=True_ <-새로운 변수에 안넣고 원래 변수에 바로 reindexing\n",
    "\n",
    "#### 결측치(missing value) 처리\n",
    "\n",
    "- df.reindex(range(6), method=**'ffill'**) <-front fill 앞 값으로 Null값 채움\n",
    "\n",
    "- df.reindex(range(6), method=**'bfill'**) <-back fill 뒷 값으로 Null값 채움\n",
    "\n",
    "- df.dropna() <-결측값이 하나 이상있는 행을 버린다.\n",
    "\n",
    "- df.dropna(how='all') <-행의 모든 값이 Null값인 행을 버린다.\n",
    "\n",
    "- df.fillna({0:1, 1:2, 2:3}\n",
    "데이터 프레임의 결측값을 지정된 값으로 채운다.\n",
    "0번 열에는 1로, 1번 열에는 2로, 2번 열에는 3으로 결측값을 채워라\n",
    "\n",
    "- df.fillna(9) <-결측값을 9로 채워라\n",
    "\n",
    "- df.fillna(df.mean(axis = 0)) <-각 column의 평균값으로 결측값을 채워라\n",
    "\n",
    "\n"
   ]
  },
  {
   "cell_type": "markdown",
   "metadata": {},
   "source": [
    "### 행과 열 제거(Series, DataFrame 둘다 가능)\n",
    "\n",
    "- drop: drop으로 행과 열을 삭제할 수 있다.\n",
    "\n",
    "- drop은 column을 제거할 때 주로 쓰고 행을 제거할때는 불리언 인덱싱을 주로 한다.\n",
    "\n",
    "- frame.drop('one')"
   ]
  },
  {
   "cell_type": "markdown",
   "metadata": {},
   "source": [
    "### 행과 열 추가\n",
    "\n",
    "- 행추가: data.loc[\"six\"] = [\"인천\", 2002, 2000] \n",
    "\n",
    "- 열추가: data[\"debt\"] = [10,20,30,40,50] \n"
   ]
  },
  {
   "cell_type": "markdown",
   "metadata": {},
   "source": [
    "### 행,열 이름 바꾸기\n",
    "\n",
    "- df_products = df_products.rename(columns={'index':'new_id'}) <-바꾸기전:바꾼후"
   ]
  },
  {
   "cell_type": "code",
   "execution_count": null,
   "metadata": {},
   "outputs": [],
   "source": []
  }
 ],
 "metadata": {
  "colab": {
   "name": "MyFirstCodeBook.ipynb",
   "provenance": [],
   "toc_visible": true
  },
  "kernelspec": {
   "display_name": "Python 3 (ipykernel)",
   "language": "python",
   "name": "python3"
  },
  "language_info": {
   "codemirror_mode": {
    "name": "ipython",
    "version": 3
   },
   "file_extension": ".py",
   "mimetype": "text/x-python",
   "name": "python",
   "nbconvert_exporter": "python",
   "pygments_lexer": "ipython3",
   "version": "3.8.5"
  },
  "toc": {
   "base_numbering": 1,
   "nav_menu": {},
   "number_sections": true,
   "sideBar": true,
   "skip_h1_title": false,
   "title_cell": "Table of Contents",
   "title_sidebar": "Contents",
   "toc_cell": false,
   "toc_position": {
    "height": "calc(100% - 180px)",
    "left": "10px",
    "top": "150px",
    "width": "234px"
   },
   "toc_section_display": true,
   "toc_window_display": true
  }
 },
 "nbformat": 4,
 "nbformat_minor": 1
}
